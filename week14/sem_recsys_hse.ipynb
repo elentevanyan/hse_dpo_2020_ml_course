{
 "cells": [
  {
   "cell_type": "markdown",
   "metadata": {
    "colab_type": "text",
    "id": "oNqRKj5c4AXO"
   },
   "source": [
    "# Рекомендательные системы"
   ]
  },
  {
   "cell_type": "markdown",
   "metadata": {},
   "source": [
    "### Простые user2user рекомендации"
   ]
  },
  {
   "cell_type": "markdown",
   "metadata": {},
   "source": [
    "Предположим у нас есть некий блог про ИТ и анализ данных, у него есть система тегов по темам. \n",
    "Есть набор пользователей и темы, которые они уже читают, необходимо порекомендовать им новые"
   ]
  },
  {
   "cell_type": "code",
   "execution_count": 31,
   "metadata": {},
   "outputs": [],
   "source": [
    "import datetime\n",
    "\n",
    "from collections import Counter\n",
    "from collections import defaultdict\n",
    "\n",
    "import pickle as pkl\n",
    "import numpy as np\n",
    "import scipy.sparse as sps\n",
    "\n",
    "from scipy import linalg\n",
    "import matplotlib.pyplot as plt"
   ]
  },
  {
   "cell_type": "code",
   "execution_count": 11,
   "metadata": {},
   "outputs": [],
   "source": [
    "user_items = [\n",
    "    [\"Hadoop\", \"Big Data\", \"HBase\", \"Java\", \"Spark\", \"Storm\", \"Cassandra\"],\n",
    "    [\"NoSQL\", \"MongoDB\", \"Cassandra\", \"HBase\", \"Postgres\"],\n",
    "    [\"Python\", \"scikit-learn\", \"scipy\", \"numpy\", \"statsmodels\", \"pandas\"],\n",
    "    [\"R\", \"Python\", \"statistics\", \"regression\", \"probability\"],\n",
    "    [\"machine learning\", \"regression\", \"decision trees\", \"libsvm\"],\n",
    "    [\"Python\", \"R\", \"Java\", \"C++\", \"Haskell\", \"programming languages\"],\n",
    "    [\"statistics\", \"probability\", \"mathematics\", \"theory\"],\n",
    "    [\"machine learning\", \"scikit-learn\", \"Mahout\", \"neural networks\"],\n",
    "    [\"neural networks\", \"deep learning\", \"Big Data\", \"artificial intelligence\"],\n",
    "    [\"Hadoop\", \"Java\", \"MapReduce\", \"Big Data\"],\n",
    "    [\"statistics\", \"R\", \"statsmodels\"],\n",
    "    [\"C++\", \"deep learning\", \"artificial intelligence\", \"probability\"],\n",
    "    [\"pandas\", \"R\", \"Python\"],\n",
    "    [\"databases\", \"HBase\", \"Postgres\", \"MySQL\", \"MongoDB\"],\n",
    "    [\"libsvm\", \"regression\", \"support vector machines\"]\n",
    "]"
   ]
  },
  {
   "cell_type": "markdown",
   "metadata": {},
   "source": [
    "### Рекомендация наиболее популярного выбора"
   ]
  },
  {
   "cell_type": "markdown",
   "metadata": {},
   "source": [
    "Давайте попробуем рекомендовать самые популярные теги из тех, что пользователь еще не читает<br>\n",
    "Для начала составьте список самых популярных тегов \n",
    "\n"
   ]
  },
  {
   "cell_type": "code",
   "execution_count": 28,
   "metadata": {},
   "outputs": [],
   "source": [
    "# Ваш код здесь \n",
    "popular_title = Counter([item for sublist in user_items for item in sublist]).most_common()"
   ]
  },
  {
   "cell_type": "code",
   "execution_count": 29,
   "metadata": {},
   "outputs": [],
   "source": [
    "def popular_recommendation_user(user_id, nums=5):\n",
    "    ..."
   ]
  },
  {
   "cell_type": "code",
   "execution_count": null,
   "metadata": {},
   "outputs": [],
   "source": [
    "user_id = 0 # id клиента (на самом деле номер строчки)\n",
    "\n",
    "print('Интересы клиента id{}: {}'.format(user_id, user_items[user_id]))\n",
    "print('Рекомендации для клиента id{}: {}'.format(user_id, popular_recommendation_user(user_id)))"
   ]
  },
  {
   "cell_type": "markdown",
   "metadata": {},
   "source": [
    "Выглядит не так плохо, но кажется это связано с тем что контент по одной тематике – фактически мы никак не учитываем интересы пользователя (за исключением последнего шага), для всех пользователей будут одинаковые рекомендации\n"
   ]
  },
  {
   "cell_type": "markdown",
   "metadata": {},
   "source": [
    "### Переходим к user2user"
   ]
  },
  {
   "cell_type": "markdown",
   "metadata": {},
   "source": [
    "Будем рекомендовать A то нравится B, исходя из схожести интересов <br>\n",
    "– Создадим многомерное пространство тегов <br>\n",
    "– Отобразим наших пользователей на это пространство<br>\n",
    "– Найдем похожих <br>\n",
    "– PROFIT "
   ]
  },
  {
   "cell_type": "code",
   "execution_count": 42,
   "metadata": {},
   "outputs": [
    {
     "data": {
      "text/plain": [
       "['Big Data', 'C++', 'Cassandra', 'HBase', 'Hadoop']"
      ]
     },
     "execution_count": 42,
     "metadata": {},
     "output_type": "execute_result"
    }
   ],
   "source": [
    "# Наше многомерное пространство по сути – список уникальных отсортированных элементов \n",
    "unique_items = sorted(set([item for sublist in user_items for item in sublist]))\n",
    "unique_items[:5]"
   ]
  },
  {
   "cell_type": "code",
   "execution_count": 50,
   "metadata": {},
   "outputs": [],
   "source": [
    "def user_to_vector(user_items):\n",
    "    # ваш код здесь\n",
    "    ..."
   ]
  },
  {
   "cell_type": "code",
   "execution_count": 54,
   "metadata": {},
   "outputs": [],
   "source": [
    "user_items_matrix = [user_to_vector(user_items) for user_items in user_items]\n"
   ]
  },
  {
   "cell_type": "code",
   "execution_count": 55,
   "metadata": {},
   "outputs": [
    {
     "name": "stdout",
     "output_type": "stream",
     "text": [
      "[[1, 0, 1, 1, 1, 0, 1, 0, 0, 0, 0, 0, 0, 0, 0, 1, 1, 0, 0, 0, 0, 0, 0, 0, 0, 0, 0, 0, 0, 0, 0, 0, 0, 0, 0, 0], [0, 0, 1, 1, 0, 0, 0, 0, 0, 1, 0, 1, 1, 0, 0, 0, 0, 0, 0, 0, 0, 0, 0, 0, 0, 0, 0, 0, 0, 0, 0, 0, 0, 0, 0, 0], [0, 0, 0, 0, 0, 0, 0, 0, 0, 0, 0, 0, 0, 1, 0, 0, 0, 0, 0, 0, 0, 0, 0, 0, 0, 1, 1, 0, 0, 0, 1, 1, 0, 1, 0, 0], [0, 0, 0, 0, 0, 0, 0, 0, 0, 0, 0, 0, 0, 1, 1, 0, 0, 0, 0, 0, 0, 0, 0, 0, 0, 0, 0, 1, 0, 1, 0, 0, 1, 0, 0, 0], [0, 0, 0, 0, 0, 0, 0, 0, 0, 0, 0, 0, 0, 0, 0, 0, 0, 0, 0, 1, 0, 1, 1, 0, 0, 0, 0, 0, 0, 1, 0, 0, 0, 0, 0, 0], [0, 1, 0, 0, 0, 1, 1, 0, 0, 0, 0, 0, 0, 1, 1, 0, 0, 0, 0, 0, 0, 0, 0, 0, 0, 0, 0, 0, 1, 0, 0, 0, 0, 0, 0, 0], [0, 0, 0, 0, 0, 0, 0, 0, 0, 0, 0, 0, 0, 0, 0, 0, 0, 0, 0, 0, 0, 0, 0, 1, 0, 0, 0, 1, 0, 0, 0, 0, 1, 0, 0, 1], [0, 0, 0, 0, 0, 0, 0, 1, 0, 0, 0, 0, 0, 0, 0, 0, 0, 0, 0, 0, 0, 0, 1, 0, 1, 0, 0, 0, 0, 0, 1, 0, 0, 0, 0, 0], [1, 0, 0, 0, 0, 0, 0, 0, 0, 0, 0, 0, 0, 0, 0, 0, 0, 1, 0, 0, 1, 0, 0, 0, 1, 0, 0, 0, 0, 0, 0, 0, 0, 0, 0, 0], [1, 0, 0, 0, 1, 0, 1, 0, 1, 0, 0, 0, 0, 0, 0, 0, 0, 0, 0, 0, 0, 0, 0, 0, 0, 0, 0, 0, 0, 0, 0, 0, 0, 0, 0, 0], [0, 0, 0, 0, 0, 0, 0, 0, 0, 0, 0, 0, 0, 0, 1, 0, 0, 0, 0, 0, 0, 0, 0, 0, 0, 0, 0, 0, 0, 0, 0, 0, 1, 1, 0, 0], [0, 1, 0, 0, 0, 0, 0, 0, 0, 0, 0, 0, 0, 0, 0, 0, 0, 1, 0, 0, 1, 0, 0, 0, 0, 0, 0, 1, 0, 0, 0, 0, 0, 0, 0, 0], [0, 0, 0, 0, 0, 0, 0, 0, 0, 0, 0, 0, 0, 1, 1, 0, 0, 0, 0, 0, 0, 0, 0, 0, 0, 0, 1, 0, 0, 0, 0, 0, 0, 0, 0, 0], [0, 0, 0, 1, 0, 0, 0, 0, 0, 1, 1, 0, 1, 0, 0, 0, 0, 0, 1, 0, 0, 0, 0, 0, 0, 0, 0, 0, 0, 0, 0, 0, 0, 0, 0, 0], [0, 0, 0, 0, 0, 0, 0, 0, 0, 0, 0, 0, 0, 0, 0, 0, 0, 0, 0, 0, 0, 1, 0, 0, 0, 0, 0, 0, 0, 1, 0, 0, 0, 0, 1, 0]]\n"
     ]
    }
   ],
   "source": [
    "print(user_items_matrix)"
   ]
  },
  {
   "cell_type": "code",
   "execution_count": 58,
   "metadata": {},
   "outputs": [],
   "source": [
    "# Самое время искать похожих юзеров, будем пользоваться косинусной мерой близости\n",
    "def cosim(v1,v2):\n",
    "    return np.dot(v1,v2)/ np.sqrt(np.dot(v1,v1)*np.dot(v2,v2))"
   ]
  },
  {
   "cell_type": "code",
   "execution_count": 62,
   "metadata": {},
   "outputs": [
    {
     "data": {
      "text/plain": [
       "[(9, 0.5669467095138409),\n",
       " (1, 0.3380617018914066),\n",
       " (8, 0.1889822365046136),\n",
       " (13, 0.1690308509457033),\n",
       " (5, 0.1543033499620919)]"
      ]
     },
     "execution_count": 62,
     "metadata": {},
     "output_type": "execute_result"
    }
   ],
   "source": [
    "def similar_users(user_ID):\n",
    "    # допишите функцию, так чтобы она возвращала список кортежей (id, значение меры), \n",
    "    # используейте cosim, определенный до этого\n",
    "    pairs = []   \n",
    "    return sorted(pairs, key = lambda x: x[1], reverse =1)\n",
    "\n",
    "similar_users(0)"
   ]
  },
  {
   "cell_type": "code",
   "execution_count": 67,
   "metadata": {},
   "outputs": [],
   "source": [
    "# А теперь наконец можем рекомендовать\n",
    "def user_user_recommendation(user_ID, nums = 5):\n",
    "    recommendation = defaultdict(float)\n",
    "# проходимся по похожим юзерам\n",
    "    for user_id, cosim_similarity in similar_users(user_ID):\n",
    "        for interest in user_items[user_id]:\n",
    "            recommendation[interest] += cosim_similarity\n",
    "# сортируем рекомендации\n",
    "    recommendation = sorted(recommendation.items(), key = lambda x: x[1], reverse=1)\n",
    "# исключаем то что уже есть\n",
    "    recommendation = [i for i in recommendation if i[0] not in user_items[user_ID]]  \n",
    "    return recommendation[:nums]"
   ]
  },
  {
   "cell_type": "code",
   "execution_count": 68,
   "metadata": {},
   "outputs": [
    {
     "name": "stdout",
     "output_type": "stream",
     "text": [
      "Интересы клиента id0: ['Hadoop', 'Big Data', 'HBase', 'Java', 'Spark', 'Storm', 'Cassandra']\n",
      "---\n",
      "Рекомендации для клиента id0 из популярного: [('Python', 4), ('R', 4), ('statistics', 3), ('regression', 3), ('probability', 3)]\n",
      "---\n",
      "User2user рекомендации для клиента id0: [('MapReduce', 0.5669467095138409), ('MongoDB', 0.50709255283711), ('Postgres', 0.50709255283711), ('NoSQL', 0.3380617018914066), ('neural networks', 0.1889822365046136)]\n"
     ]
    }
   ],
   "source": [
    "user_id = 0 # id клиента (на самом деле номер строчки)\n",
    "\n",
    "print('Интересы клиента id{}: {}'.format(user_id, user_items[user_id])) \n",
    "print ('---')\n",
    "print('Рекомендации для клиента id{} из популярного: {}'.format(user_id, popular_recommendation_user(user_id)))\n",
    "print ('---')\n",
    "print('User2user рекомендации для клиента id{}: {}'.format(user_id, user_user_recommendation(user_id)))\n"
   ]
  },
  {
   "cell_type": "code",
   "execution_count": null,
   "metadata": {},
   "outputs": [],
   "source": []
  },
  {
   "cell_type": "markdown",
   "metadata": {},
   "source": [
    "## Go deeper & Item2item рекомендации"
   ]
  },
  {
   "cell_type": "markdown",
   "metadata": {
    "colab_type": "text",
    "id": "ychQcodwwgfp"
   },
   "source": [
    "В этом секции мы применим алгоритм коллаборативной фильтрации на item-base подходе. Работать мы будем с датасетом MovieLens, который содержит в себе информацию об оценках фильмов пользователями одноименного сайта."
   ]
  },
  {
   "cell_type": "markdown",
   "metadata": {},
   "source": [
    "Загрузим предобработанные данные."
   ]
  },
  {
   "cell_type": "code",
   "execution_count": 145,
   "metadata": {},
   "outputs": [],
   "source": [
    "with open('data.pkl', 'rb') as f:\n",
    "    data = pkl.load(f)\n",
    "users = data['users']\n",
    "movies = data['movies']\n",
    "ratings = data['ratings']"
   ]
  },
  {
   "cell_type": "markdown",
   "metadata": {
    "colab_type": "text",
    "id": "zb4bgay23z5f"
   },
   "source": [
    "### Посмотрим на данные"
   ]
  },
  {
   "cell_type": "code",
   "execution_count": 159,
   "metadata": {},
   "outputs": [],
   "source": [
    "# Посмотрите на количество юзеров и фильмов\n",
    "..."
   ]
  },
  {
   "cell_type": "markdown",
   "metadata": {},
   "source": [
    "О пользователях нам известен пол (F, M), возраст, закодированная информация о трудоуствройстве и zip-code."
   ]
  },
  {
   "cell_type": "code",
   "execution_count": 147,
   "metadata": {},
   "outputs": [
    {
     "data": {
      "text/plain": [
       "{'Gender': 'M', 'Age': '50', 'Occupation': 11, 'Zip-code': '07043'}"
      ]
     },
     "execution_count": 147,
     "metadata": {},
     "output_type": "execute_result"
    }
   ],
   "source": [
    "users[1001]"
   ]
  },
  {
   "cell_type": "markdown",
   "metadata": {},
   "source": [
    "Про фильм известны название и список жанров."
   ]
  },
  {
   "cell_type": "code",
   "execution_count": 148,
   "metadata": {},
   "outputs": [
    {
     "data": {
      "text/plain": [
       "{'Title': 'Pollyanna (1960)', 'Genres': [\"Children's\", 'Comedy', 'Drama']}"
      ]
     },
     "execution_count": 148,
     "metadata": {},
     "output_type": "execute_result"
    }
   ],
   "source": [
    "movies[1001]"
   ]
  },
  {
   "cell_type": "markdown",
   "metadata": {},
   "source": [
    "В словаре ratings хранится список оценок для каждого пользователя.\n",
    "Каждая оценка - это кортеж из movieId, самой оценки (числа от 1 до 5) и момента времени, когда оценка была сделана."
   ]
  },
  {
   "cell_type": "code",
   "execution_count": 149,
   "metadata": {
    "colab": {
     "base_uri": "https://localhost:8080/",
     "height": 71
    },
    "colab_type": "code",
    "id": "CuTfmpcI3Oal",
    "outputId": "a75f1e05-b1fe-4317-a30a-603d3c0d00d6"
   },
   "outputs": [
    {
     "name": "stdout",
     "output_type": "stream",
     "text": [
      "Number of ratings for user 1001: 66\n",
      "(1078, 5, datetime.datetime(2000, 12, 9, 6, 48, 24))\n"
     ]
    }
   ],
   "source": [
    "print('Number of ratings for user 1001:', len(ratings[1001]))\n",
    "print(ratings[1001][65])"
   ]
  },
  {
   "cell_type": "markdown",
   "metadata": {},
   "source": [
    "Выведем список любимых жанров юзера 1001 "
   ]
  },
  {
   "cell_type": "code",
   "execution_count": 157,
   "metadata": {},
   "outputs": [
    {
     "data": {
      "text/plain": [
       "defaultdict(int,\n",
       "            {'Adventure': 4,\n",
       "             'Animation': 1,\n",
       "             'Film-Noir': 1,\n",
       "             'Comedy': 20,\n",
       "             'Drama': 50,\n",
       "             'Documentary': 3,\n",
       "             'Western': 1,\n",
       "             'Thriller': 5,\n",
       "             'Sci-Fi': 3,\n",
       "             'Romance': 8,\n",
       "             'Action': 7,\n",
       "             'Crime': 5,\n",
       "             'War': 5,\n",
       "             'Mystery': 2,\n",
       "             'Musical': 1})"
      ]
     },
     "execution_count": 157,
     "metadata": {},
     "output_type": "execute_result"
    }
   ],
   "source": [
    "g1001 = defaultdict(int)\n",
    "for r in ratings[1001]:\n",
    "    for genre in movies[r[0]]['Genres']:\n",
    "        g1001[genre] += 1\n",
    "g1001"
   ]
  },
  {
   "cell_type": "markdown",
   "metadata": {},
   "source": [
    "### Валидация"
   ]
  },
  {
   "cell_type": "markdown",
   "metadata": {
    "colab_type": "text",
    "id": "HiIzOAdn4hdU"
   },
   "source": [
    "Разобьем данные на тренировочную и тестовую выборку. Разбивать будем рейтинги по времени. Для начала найдем дату на которую было выставленно 80% рейтингов в датасете. И все рейтинги, что были до, попадут в train, а остальные в test."
   ]
  },
  {
   "cell_type": "code",
   "execution_count": 76,
   "metadata": {
    "colab": {},
    "colab_type": "code",
    "id": "a-raaLKQ5NcU"
   },
   "outputs": [],
   "source": [
    "times = []\n",
    "for user_ratings in ratings:\n",
    "    times.extend([x[2] for x in user_ratings])"
   ]
  },
  {
   "cell_type": "code",
   "execution_count": 77,
   "metadata": {
    "colab": {},
    "colab_type": "code",
    "id": "wgkiECze5ZI_"
   },
   "outputs": [],
   "source": [
    "times = sorted(times)"
   ]
  },
  {
   "cell_type": "code",
   "execution_count": 78,
   "metadata": {
    "colab": {},
    "colab_type": "code",
    "id": "bxt0kai75iYf"
   },
   "outputs": [],
   "source": [
    "threshold_time = times[int(0.8 * len(times))]"
   ]
  },
  {
   "cell_type": "code",
   "execution_count": 79,
   "metadata": {
    "colab": {
     "base_uri": "https://localhost:8080/",
     "height": 51
    },
    "colab_type": "code",
    "id": "x-JKj56U3myp",
    "outputId": "94fe9c5e-d4af-4bbf-acea-6e25e8606ae1"
   },
   "outputs": [
    {
     "name": "stdout",
     "output_type": "stream",
     "text": [
      "ratings in train: 800168\n",
      "ratings in test: 200041\n"
     ]
    }
   ],
   "source": [
    "train = []\n",
    "test = []\n",
    "for user_id, user_ratings in enumerate(ratings):\n",
    "    train.extend((user_id, rating[0], rating[1] / 5.0) for rating in user_ratings if rating[2] <= threshold_time)\n",
    "    test.extend((user_id, rating[0], rating[1] / 5.0) for rating in user_ratings if rating[2] > threshold_time)\n",
    "print(\"ratings in train:\", len(train))\n",
    "print(\"ratings in test:\", len(test))"
   ]
  },
  {
   "cell_type": "code",
   "execution_count": 80,
   "metadata": {
    "colab": {},
    "colab_type": "code",
    "id": "Qc9CbtQZ2XPd"
   },
   "outputs": [],
   "source": [
    "train_by_user = defaultdict(list)\n",
    "test_by_user = defaultdict(list)\n",
    "for u, i, r in train:\n",
    "    train_by_user[u].append((i, r))\n",
    "for u, i, r in test:\n",
    "    test_by_user[u].append((i, r))"
   ]
  },
  {
   "cell_type": "markdown",
   "metadata": {},
   "source": [
    "Научимся считать тестовую метрику (MSE) для предсказаний."
   ]
  },
  {
   "cell_type": "code",
   "execution_count": 81,
   "metadata": {},
   "outputs": [],
   "source": [
    "def recom_mse(recom_func):\n",
    "    mse = 0\n",
    "    cnt = 0\n",
    "    for uid in range(len(users)):\n",
    "        recoms = recom_func(uid)\n",
    "        tbu = test_by_user[uid]\n",
    "        test_items = [e[0] for e in tbu]\n",
    "        test_ratings = np.array([e[1] for e in tbu])        \n",
    "        errors = np.square(recoms[test_items] - test_ratings)\n",
    "        mse += sum(errors)\n",
    "        cnt += len(errors)\n",
    "    return mse / cnt"
   ]
  },
  {
   "cell_type": "markdown",
   "metadata": {},
   "source": [
    "Посмотрим характерное значение метрики для случайного предсказания."
   ]
  },
  {
   "cell_type": "code",
   "execution_count": 82,
   "metadata": {},
   "outputs": [],
   "source": [
    "def random_recom_func(uid):\n",
    "    return np.random.rand(len(movies))"
   ]
  },
  {
   "cell_type": "code",
   "execution_count": 17,
   "metadata": {},
   "outputs": [
    {
     "data": {
      "text/plain": [
       "0.17628161122958955"
      ]
     },
     "execution_count": 17,
     "metadata": {},
     "output_type": "execute_result"
    }
   ],
   "source": [
    "recom_mse(random_recom_func)"
   ]
  },
  {
   "cell_type": "markdown",
   "metadata": {},
   "source": [
    "### Item-based коллаборативная фильтрация"
   ]
  },
  {
   "cell_type": "markdown",
   "metadata": {},
   "source": [
    "Item-based коллаборативная фильтрация это почти как user-based, только item.\n",
    "\n",
    "В item-based мы считаем похожесть фильмов (столбцов матрицы) и вычисляем оценку пользователя U на фильм I как взвешенное среднее оценок пользователя U на остальные фильмы, где вес - степень похожести на фильм I:\n",
    "$$ \\hat{r}(u_5, i_1) = \\sum_{i \\in \\{3, 4, 5\\}} sim(i_1, i) \\cdot r(u_5, i) $$\n",
    "$$ \\sum_{i \\in \\{3, 4, 5\\}} sim(i_1, i) = 1 $$"
   ]
  },
  {
   "cell_type": "markdown",
   "metadata": {},
   "source": [
    "<img src=\"https://hsto.org/files/827/8c7/4dc/8278c74dce8b45e992220121e8a08ae5.png\" width=\"50%\"/>"
   ]
  },
  {
   "cell_type": "markdown",
   "metadata": {
    "colab_type": "text",
    "id": "vI6qnPa-xt_L"
   },
   "source": [
    "Сейчас мы хотим посчититать похожесть по фильмам.\n",
    "\n",
    "Для этого нам сначала нужно посчитать средний рейтинг каждого пользователя (потом мы будем центрировать на него оценки этого пользователя)."
   ]
  },
  {
   "cell_type": "code",
   "execution_count": 104,
   "metadata": {
    "colab": {},
    "colab_type": "code",
    "id": "IeBL3nByzR4r"
   },
   "outputs": [],
   "source": [
    "user_average = defaultdict(list)\n",
    "for user, item, rank in train:\n",
    "    user_average[user].append(rank)\n",
    "for user in user_average.keys():\n",
    "    user_average[user] = sum(user_average[user]) / len(user_average[user])\n",
    "user_average = dict(user_average)"
   ]
  },
  {
   "cell_type": "markdown",
   "metadata": {},
   "source": [
    "Построим матрицу user-item."
   ]
  },
  {
   "cell_type": "code",
   "execution_count": 106,
   "metadata": {},
   "outputs": [],
   "source": [
    "user_item = np.zeros([len(users), len(movies)])\n",
    "for u, i, r in train:\n",
    "    # ваш код здесь\n",
    "    ..."
   ]
  },
  {
   "cell_type": "markdown",
   "metadata": {},
   "source": [
    "Посчитаем норму (длину) каждого фильма (столбца) в этой матрице, ибо вектор. <br>\n",
    "Сделаем копию матрицы user-item с нормированными столбцами."
   ]
  },
  {
   "cell_type": "code",
   "execution_count": 119,
   "metadata": {},
   "outputs": [],
   "source": [
    "item_norms = (user_item ** 2).sum(0) ** 0.5\n",
    "user_item_normed = user_item / (item_norms[np.newaxis, :] + 1e-6)"
   ]
  },
  {
   "cell_type": "markdown",
   "metadata": {
    "colab_type": "text",
    "id": "t0K6XJO10vyc"
   },
   "source": [
    "Похожестью фильмов будем считать скалярное произведение их нормированных столбцов.\n",
    "\n",
    "(Без нормирования популярные фильмы были бы наиболее похожи на все остальные фильмы)."
   ]
  },
  {
   "cell_type": "code",
   "execution_count": 120,
   "metadata": {},
   "outputs": [],
   "source": [
    "item_item_similarity = user_item_normed.transpose().dot(user_item_normed)"
   ]
  },
  {
   "cell_type": "markdown",
   "metadata": {
    "colab_type": "text",
    "id": "tbj6zhu_2KOY"
   },
   "source": [
    "Давайте обнулим те похожести, которые меньше 0. Это означает, что если угол между векторами больше 90 градусов, то мы считаем их совсем не похожими."
   ]
  },
  {
   "cell_type": "code",
   "execution_count": 125,
   "metadata": {
    "colab": {},
    "colab_type": "code",
    "id": "u4YU4f5C1ngw"
   },
   "outputs": [],
   "source": [
    "item_item_similarity[item_item_similarity <=0] = 0"
   ]
  },
  {
   "cell_type": "markdown",
   "metadata": {},
   "source": [
    "Напишем функцию, вычисляющую рекомендации для пользователя."
   ]
  },
  {
   "cell_type": "code",
   "execution_count": 135,
   "metadata": {},
   "outputs": [],
   "source": [
    "def item_based_recoms(uid):\n",
    "    user_ratings = train_by_user[uid]\n",
    "    if len(user_ratings) == 0:\n",
    "        return np.random.rand(len(movies))\n",
    "    user_rated_items = [e[0] for e in user_ratings]\n",
    "    user_rated_ratings = np.array([[e[1]] for e in user_ratings])\n",
    "    # столбцы в матрице похожести, которые соответствуют оцененным фильмам\n",
    "    similar_items = item_item_similarity[:, user_rated_items]\n",
    "    # смешаем пользовательские рейтинги с весами похожести фильмов и таким образом получим предсказанные рейтинги\n",
    "    recoms = similar_items.dot(user_rated_ratings)[:, 0] / (similar_items.sum(axis=1) + 1e-6)\n",
    "    return recoms"
   ]
  },
  {
   "cell_type": "markdown",
   "metadata": {},
   "source": [
    "Посмотрим, какие фильмы рекомендуются пользователю 1001."
   ]
  },
  {
   "cell_type": "code",
   "execution_count": 136,
   "metadata": {},
   "outputs": [
    {
     "name": "stdout",
     "output_type": "stream",
     "text": [
      "[0.80629559 0.59598739 0.42865171 ... 0.87984804 0.86532725 0.81723548]\n"
     ]
    }
   ],
   "source": [
    "recoms1001 = item_based_recoms(1001)\n",
    "print(recoms1001)"
   ]
  },
  {
   "cell_type": "code",
   "execution_count": 138,
   "metadata": {},
   "outputs": [
    {
     "name": "stdout",
     "output_type": "stream",
     "text": [
      "['Talk of Angels (1998)', 'Time of the Gypsies (Dom za vesanje) (1989)', 'Bittersweet Motel (2000)', 'Beyond Silence (1996)', 'Year of the Horse (1997)', 'Ballad of Narayama, The (Narayama Bushiko) (1958)', 'Midaq Alley (Callejón de los milagros, El) (1995)', 'Silence of the Palace, The (Saimt el Qusur) (1994)', 'Gay Deceivers, The (1969)', 'Detroit 9000 (1973)', 'Modern Affair, A (1995)', '1-900 (1994)', 'Paralyzing Fear: The Story of Polio in America, A (1998)', 'Schlafes Bruder (Brother of Sleep) (1995)', 'Steamboat Willie (1940)', 'Outside Ozona (1998)', 'Broadway Damage (1997)', 'Ulysses (Ulisse) (1954)', 'Naked Man, The (1998)', 'Captives (1994)']\n"
     ]
    }
   ],
   "source": [
    "top_movies = np.argsort(-recoms1001)\n",
    "user_1001_rated_items = [e[0] for e in train_by_user[1001]]\n",
    "top_movies_ids = [i for i in top_movies if i not in user_1001_rated_items][:20]\n",
    "top_movies_names = [movies[mid]['Title'] for mid in top_movies_ids]\n",
    "print(top_movies_names)"
   ]
  },
  {
   "cell_type": "code",
   "execution_count": 139,
   "metadata": {},
   "outputs": [
    {
     "data": {
      "text/plain": [
       "defaultdict(int,\n",
       "            {'Drama': 10,\n",
       "             'Documentary': 3,\n",
       "             'Comedy': 3,\n",
       "             'Action': 1,\n",
       "             'Crime': 1,\n",
       "             'Romance': 2,\n",
       "             'Animation': 1,\n",
       "             \"Children's\": 1,\n",
       "             'Musical': 1,\n",
       "             'Thriller': 1,\n",
       "             'Adventure': 1})"
      ]
     },
     "execution_count": 139,
     "metadata": {},
     "output_type": "execute_result"
    }
   ],
   "source": [
    "g1001 = defaultdict(int)\n",
    "for mid in top_movies_ids:\n",
    "    for genre in movies[mid]['Genres']:\n",
    "        g1001[genre] += 1\n",
    "g1001"
   ]
  },
  {
   "cell_type": "markdown",
   "metadata": {},
   "source": [
    "Видно, что по жанрам предлагаемые фильмы похожи на то, что любит пользователь, хотя информация о жанрах никак не использовалась в модели."
   ]
  },
  {
   "cell_type": "markdown",
   "metadata": {
    "colab_type": "text",
    "id": "RDas8Bv8-j9X"
   },
   "source": [
    "Можем посмотреть на рейтинги в тесте этого пользователя и сравнить с предсказанными."
   ]
  },
  {
   "cell_type": "markdown",
   "metadata": {
    "colab_type": "text",
    "id": "mDVd9IWd9D0U"
   },
   "source": [
    "Посчитаем MSE."
   ]
  },
  {
   "cell_type": "code",
   "execution_count": 30,
   "metadata": {
    "colab": {
     "base_uri": "https://localhost:8080/",
     "height": 34
    },
    "colab_type": "code",
    "id": "g944brZT2rg7",
    "outputId": "0ba16931-e416-475d-e323-d2bb9d1b2303"
   },
   "outputs": [
    {
     "data": {
      "text/plain": [
       "0.10645401112258601"
      ]
     },
     "execution_count": 30,
     "metadata": {},
     "output_type": "execute_result"
    }
   ],
   "source": [
    "recom_mse(item_based_recoms)"
   ]
  },
  {
   "cell_type": "markdown",
   "metadata": {},
   "source": [
    "Видим, что результат лучше случайного."
   ]
  },
  {
   "cell_type": "markdown",
   "metadata": {},
   "source": [
    "## Бонус-треки"
   ]
  },
  {
   "cell_type": "markdown",
   "metadata": {},
   "source": [
    "### Cold start problem"
   ]
  },
  {
   "cell_type": "markdown",
   "metadata": {},
   "source": [
    "Есть новые пользователи, которые пока что не поставили ни одной оценки, есть фильмы (новые или просто унылые), которые пока никто не оценил. Нужно думать что с ними делать."
   ]
  },
  {
   "cell_type": "code",
   "execution_count": 31,
   "metadata": {},
   "outputs": [
    {
     "name": "stdout",
     "output_type": "stream",
     "text": [
      "Все пользователи в датасете сделали хотя бы по 20 оценок\n"
     ]
    },
    {
     "data": {
      "image/png": "[encoded data removed]",
      "text/plain": [
       "<Figure size 1080x360 with 2 Axes>"
      ]
     },
     "metadata": {
      "needs_background": "light"
     },
     "output_type": "display_data"
    }
   ],
   "source": [
    "fig, axes = plt.subplots(1, 2, figsize=(15, 5))\n",
    "\n",
    "plt.sca(axes[0])\n",
    "plt.hist([len(user_ratings) for user_ratings in ratings], bins=64)\n",
    "plt.xlabel('Number of ratings by one user', fontsize=14)\n",
    "plt.ylabel('Number of such users', fontsize=14)\n",
    "\n",
    "plt.sca(axes[1])\n",
    "plt.hist([len(user_ratings) for user_ratings in ratings if len(user_ratings) < 50], bins=64)\n",
    "plt.xlabel('Number of ratings by one user', fontsize=14)\n",
    "plt.ylabel('Number of such users', fontsize=14)\n",
    "\n",
    "print('Все пользователи в датасете сделали хотя бы по 20 оценок')"
   ]
  },
  {
   "cell_type": "code",
   "execution_count": 32,
   "metadata": {},
   "outputs": [
    {
     "name": "stdout",
     "output_type": "stream",
     "text": [
      "Но на момент времени, разделяющий обучающую и валидационную выборку 600 пользователей не сделали ни одной оценки\n"
     ]
    },
    {
     "data": {
      "image/png": "[encoded data removed]",
      "text/plain": [
       "<Figure size 1080x360 with 2 Axes>"
      ]
     },
     "metadata": {
      "needs_background": "light"
     },
     "output_type": "display_data"
    }
   ],
   "source": [
    "fig, axes = plt.subplots(1, 2, figsize=(15, 5))\n",
    "\n",
    "plt.sca(axes[0])\n",
    "plt.hist([len(user_ratings) for user_ratings in train_by_user.values()], bins=64)\n",
    "plt.xlabel('Number of ratings by one user', fontsize=14)\n",
    "plt.ylabel('Number of such users', fontsize=14)\n",
    "\n",
    "plt.sca(axes[1])\n",
    "plt.hist([len(user_ratings) for user_ratings in train_by_user.values() if len(user_ratings) < 50], bins=64)\n",
    "plt.xlabel('Number of ratings by one user', fontsize=14)\n",
    "plt.ylabel('Number of such users', fontsize=14)\n",
    "\n",
    "print(\"Но на момент времени, разделяющий обучающую и валидационную выборку \"\n",
    "      \"600 пользователей не сделали ни одной оценки\")"
   ]
  },
  {
   "cell_type": "code",
   "execution_count": 33,
   "metadata": {},
   "outputs": [],
   "source": [
    "movie_rates_cnt = {i: 0 for i in range(len(movies))}\n",
    "for user_ratings in ratings:\n",
    "    for rating in user_ratings:\n",
    "        movie_rates_cnt[rating[0]] += 1"
   ]
  },
  {
   "cell_type": "code",
   "execution_count": 34,
   "metadata": {},
   "outputs": [
    {
     "name": "stdout",
     "output_type": "stream",
     "text": [
      "175 фильмов не имеют ни одной оценки\n"
     ]
    },
    {
     "data": {
      "image/png": "[encoded data removed]",
      "text/plain": [
       "<Figure size 1080x360 with 2 Axes>"
      ]
     },
     "metadata": {
      "needs_background": "light"
     },
     "output_type": "display_data"
    }
   ],
   "source": [
    "fig, axes = plt.subplots(1, 2, figsize=(15, 5))\n",
    "\n",
    "plt.sca(axes[0])\n",
    "plt.hist([i for i in movie_rates_cnt.values()], bins=64)\n",
    "plt.xlabel('Number of ratings by one user', fontsize=14)\n",
    "plt.ylabel('Number of such users', fontsize=14)\n",
    "\n",
    "plt.sca(axes[1])\n",
    "plt.hist([i for i in movie_rates_cnt.values() if i < 50], bins=64)\n",
    "plt.xlabel('Number of ratings by one user', fontsize=14)\n",
    "plt.ylabel('Number of such users', fontsize=14)\n",
    "\n",
    "print(\"175 фильмов не имеют ни одной оценки\")"
   ]
  },
  {
   "cell_type": "markdown",
   "metadata": {},
   "source": [
    "Простейшее решение cold start problem: для новых пользователей предлагаем просто самые популярные фильмы (popularity-based approach)."
   ]
  },
  {
   "cell_type": "code",
   "execution_count": 36,
   "metadata": {},
   "outputs": [],
   "source": [
    "# считаем средний рейтинг каждого фильма\n",
    "movies_rating = defaultdict(list)\n",
    "for u, i, r in train:\n",
    "    movies_rating[i].append(r)\n",
    "for mid in range(len(movies)):\n",
    "    movies_rating[mid] = sum(movies_rating[mid]) / (len(movies_rating[mid]) + 1e-6)\n",
    "movies_rating = np.array([movies_rating[mid] for mid in range(len(movies))])"
   ]
  },
  {
   "cell_type": "code",
   "execution_count": 37,
   "metadata": {},
   "outputs": [],
   "source": [
    "def item_based_recoms_with_popularity_based_cold_start(uid):\n",
    "    user_ratings = train_by_user[uid]\n",
    "    if len(user_ratings) == 0:\n",
    "        return movies_rating\n",
    "    user_rated_items = [e[0] for e in user_ratings]\n",
    "    user_rated_ratings = np.array([[e[1]] for e in user_ratings])\n",
    "    # столбцы в матрице похожести, которые соответствуют оцененным фильмам\n",
    "    similar_items = item_item_similarity[:, user_rated_items]\n",
    "    # смешаем пользовательские рейтинги с весами похожести фильмов и таким образом получим предсказанные рейтинги\n",
    "    recoms = similar_items.dot(user_rated_ratings)[:, 0] / (similar_items.sum(axis=1) + 1e-6)\n",
    "    return recoms"
   ]
  },
  {
   "cell_type": "code",
   "execution_count": 38,
   "metadata": {},
   "outputs": [
    {
     "data": {
      "text/plain": [
       "0.03804089438208653"
      ]
     },
     "execution_count": 38,
     "metadata": {},
     "output_type": "execute_result"
    }
   ],
   "source": [
    "recom_mse(item_based_recoms_with_popularity_based_cold_start)"
   ]
  },
  {
   "cell_type": "markdown",
   "metadata": {},
   "source": [
    "Видим, что даже такой простой трюк значительно улучшает MSE."
   ]
  },
  {
   "cell_type": "markdown",
   "metadata": {
    "colab_type": "text",
    "id": "l6wwTNbPc_E7"
   },
   "source": [
    "### ALS факторизация"
   ]
  },
  {
   "cell_type": "markdown",
   "metadata": {
    "colab_type": "text",
    "id": "mkkl3NYzqRiv"
   },
   "source": [
    "В этом подходе оценка $r_{ui}$ пользователя $u$, поставленная фильму $i$, ищется как скалярное произведение векторов $p_u$ и $q_i$ в некотором пространстве $\\mathbb{R}^K$ латентных признаков:\n",
    "\n",
    "$$\n",
    "\t\\hat{r}_{ui} = p_u^T q_i \n",
    "$$\n",
    "\n",
    "\n",
    "Иными словами, модель находит пространство признаков, в котором мы описываем и фильмы и пользователей и в котором рейтинг является мерой близости между фильмами и пользователями.\n",
    "\t\n",
    "Для настройки модели будем минимизировать следующую ошибку:\n",
    "\t$$\n",
    "\t\\sum_{(u, i, r_{ui})} (r_{ui} - p_u^T q_i)^2 + \\lambda_{p} p_u^T p_u + \\lambda_{q} q_i^T q_i,\n",
    "\t$$\n",
    "\tгде суммирование ведется по всем тройкам $(u, i, r_{ui})$ выборки, слагаемые с $\\lambda_{p}$ и $\\lambda_{q}$ добавлены для регуляризации.\n"
   ]
  },
  {
   "cell_type": "code",
   "execution_count": 68,
   "metadata": {
    "colab": {},
    "colab_type": "code",
    "id": "ByMsZhx8dDNw"
   },
   "outputs": [],
   "source": [
    "LATENT_SIZE = 10\n",
    "\n",
    "# регуляризаторы\n",
    "lambda_p = 0.2\n",
    "lambda_q = 0.001"
   ]
  },
  {
   "cell_type": "markdown",
   "metadata": {
    "colab_type": "text",
    "id": "ZSzzU66Ndoj4"
   },
   "source": [
    "\n",
    "\n",
    "Рассмотрим работу алгоритма ALS, продолжая работать с данными Movielens.\n",
    "\n",
    "Посчитаем количество пользователей и фильмов"
   ]
  },
  {
   "cell_type": "code",
   "execution_count": 69,
   "metadata": {
    "colab": {},
    "colab_type": "code",
    "id": "n4-Q9Mmxeuor"
   },
   "outputs": [],
   "source": [
    "n_users = max([e[0] for e in train]) + 1\n",
    "n_items = max([e[1] for e in train]) + 1"
   ]
  },
  {
   "cell_type": "markdown",
   "metadata": {
    "colab_type": "text",
    "id": "wHMGiQrRmG82"
   },
   "source": [
    "Инициализируем латентные представления для пользователей"
   ]
  },
  {
   "cell_type": "code",
   "execution_count": 70,
   "metadata": {
    "colab": {},
    "colab_type": "code",
    "id": "ackKyutcenze"
   },
   "outputs": [],
   "source": [
    "p = 0.1 * np.random.random((n_users, LATENT_SIZE))\n",
    "q = 0.1 * np.random.random((n_items, LATENT_SIZE))"
   ]
  },
  {
   "cell_type": "markdown",
   "metadata": {
    "colab_type": "text",
    "id": "IQfdyhVXoLTV"
   },
   "source": [
    "Составим словарь взаимодействий по фильму"
   ]
  },
  {
   "cell_type": "code",
   "execution_count": 71,
   "metadata": {
    "colab": {},
    "colab_type": "code",
    "id": "0Edxk5UHelem"
   },
   "outputs": [],
   "source": [
    "train_by_item = defaultdict(list)\n",
    "for u, i, r in train:\n",
    "    train_by_item[i].append((u, r))"
   ]
  },
  {
   "cell_type": "markdown",
   "metadata": {
    "colab_type": "text",
    "id": "4vupJZ-ypSXk"
   },
   "source": [
    "Теперь составим матрицу $P$ из векторов $p_u$ и матрицу $Q$ из векторов $q_i$. Матрицей $Q[u] \\in \\mathbb{R}^{n_u \\times K}$ будем обозначать подматрицу матрицы $Q$ только для товаров, оцененных пользователем $u$, где $n_u$ - количество оценок пользователя $u$.\n",
    "\t\n",
    "Шаг перенастройки $p_u$ при фиксированной матрице $Q$ сводится к настройке ridge-регрессии и выглядит так:\n",
    "\t$$\n",
    "\tA_u = Q[u]^T Q[u] \\\\\n",
    "\td_u = Q[u]^T r_u \\\\\n",
    "\tp_u = (\\lambda_p n_u I + A_u)^{-1} d_u\n",
    "\t$$"
   ]
  },
  {
   "cell_type": "code",
   "execution_count": 73,
   "metadata": {
    "colab": {},
    "colab_type": "code",
    "id": "sTcvR2P4kfSo"
   },
   "outputs": [],
   "source": [
    "def compute_p(p, q, train_by_user):\n",
    "    for u, rated in train_by_user.items():\n",
    "        rated_items = [i for i, _ in rated]\n",
    "        rated_scores = np.array([r for _, r in rated])\n",
    "        Q = q[rated_items, :]\n",
    "        A = (Q.T).dot(Q)\n",
    "        d = (Q.T).dot(rated_scores)\n",
    "        p[u, :] = np.linalg.solve(lambda_p * (len(rated_items) + 1e-6) * np.eye(LATENT_SIZE) + A, d)\n",
    "    return p\n",
    "\n",
    "p = compute_p(p, q, train_by_user)"
   ]
  },
  {
   "cell_type": "code",
   "execution_count": 74,
   "metadata": {
    "colab": {
     "base_uri": "https://localhost:8080/",
     "height": 34
    },
    "colab_type": "code",
    "id": "fyW1NAMmEMFk",
    "outputId": "6a60e3d3-a2d1-47f2-91d5-0e9af24b56ad"
   },
   "outputs": [
    {
     "data": {
      "text/plain": [
       "(6040, 10)"
      ]
     },
     "execution_count": 74,
     "metadata": {},
     "output_type": "execute_result"
    }
   ],
   "source": [
    "p.shape"
   ]
  },
  {
   "cell_type": "markdown",
   "metadata": {
    "colab_type": "text",
    "id": "UjcNJKpypiP0"
   },
   "source": [
    "\n",
    "Формулы для обновления $q_i$ при фиксированной матрице $P$ выглядят аналогично, реализация будет выглядеть следующим образом:\n"
   ]
  },
  {
   "cell_type": "code",
   "execution_count": 75,
   "metadata": {
    "colab": {},
    "colab_type": "code",
    "id": "cerCwd7Qkfa6"
   },
   "outputs": [],
   "source": [
    "def compute_q(p, q, train_by_item):\n",
    "    for i, rated in train_by_item.items():\n",
    "        rated_users = [j for j, _ in rated]\n",
    "        rated_scores = np.array([s for _, s in rated])\n",
    "        P = p[rated_users, :]\n",
    "        A = (P.T).dot(P)\n",
    "        d = (P.T).dot(rated_scores)\n",
    "        q[i, :] = np.linalg.solve(lambda_q * (len(rated_users) + 1e-6) * np.eye(LATENT_SIZE) + A, d)\n",
    "    return q\n",
    "\n",
    "q = compute_q(p, q, train_by_item)"
   ]
  },
  {
   "cell_type": "code",
   "execution_count": 76,
   "metadata": {
    "colab": {
     "base_uri": "https://localhost:8080/",
     "height": 34
    },
    "colab_type": "code",
    "id": "goCvziL7FWE1",
    "outputId": "4fbd0d19-1401-4370-9eb1-526b0473e383"
   },
   "outputs": [
    {
     "data": {
      "text/plain": [
       "(3883, 10)"
      ]
     },
     "execution_count": 76,
     "metadata": {},
     "output_type": "execute_result"
    }
   ],
   "source": [
    "q.shape"
   ]
  },
  {
   "cell_type": "markdown",
   "metadata": {
    "colab_type": "text",
    "id": "Vi7bqYQvreKv"
   },
   "source": [
    "Теперь мы можем сделать предсказание всей матрицы оценок"
   ]
  },
  {
   "cell_type": "code",
   "execution_count": 77,
   "metadata": {
    "colab": {},
    "colab_type": "code",
    "id": "-O_pNNCyr7sH"
   },
   "outputs": [],
   "source": [
    "predictions = p.dot(q.T)"
   ]
  },
  {
   "cell_type": "markdown",
   "metadata": {
    "colab_type": "text",
    "id": "h0ie6BIer_24"
   },
   "source": [
    "Качество работы модели будем определять по среднеквадратичной ошибке между рейтингом и предсказанием"
   ]
  },
  {
   "cell_type": "code",
   "execution_count": 78,
   "metadata": {
    "colab": {},
    "colab_type": "code",
    "id": "-ubv98fksJZF"
   },
   "outputs": [],
   "source": [
    "def train_error(predictions):\n",
    "    return np.mean([(predictions[u, i] - r) ** 2 for u, i, r in train])\n",
    "\n",
    "def test_error(predictions):\n",
    "    return np.mean([(predictions[u, i] - r) ** 2 for u, i, r in test])"
   ]
  },
  {
   "cell_type": "markdown",
   "metadata": {
    "colab_type": "text",
    "id": "AvhpwcJSspbP"
   },
   "source": [
    "Теперь полностью реализуем метод: в ALS проводятся $N$ итераций, в рамках каждой сначала оптимизируется $p$ при фиксированном $q$, затем $q$ при фиксированном $p$."
   ]
  },
  {
   "cell_type": "code",
   "execution_count": 79,
   "metadata": {
    "colab": {
     "base_uri": "https://localhost:8080/",
     "height": 391
    },
    "colab_type": "code",
    "id": "uUOWdv1nraZ0",
    "outputId": "d2bb874e-f919-4aa2-f18c-b6ecfaa69228"
   },
   "outputs": [
    {
     "name": "stdout",
     "output_type": "stream",
     "text": [
      "0 0.030678527902685937 0.29085313748707314\n",
      "1 0.027044608764448322 0.2902554271853627\n",
      "2 0.025718264429761578 0.2902045638938193\n",
      "3 0.025179595823558103 0.2901798493647741\n",
      "4 0.024925351374386825 0.29013913142282965\n",
      "5 0.024786064175864445 0.2900989100163742\n",
      "6 0.02470274610426545 0.29006574466783824\n",
      "7 0.024650249443137335 0.29003908801655703\n",
      "8 0.024616137897834373 0.2900171585023377\n",
      "9 0.024593613824612226 0.28999813464134\n",
      "10 0.024578637235363913 0.2899812719555835\n",
      "11 0.024568700040971145 0.28996640693780673\n",
      "12 0.02456220421763892 0.2899534004381164\n",
      "13 0.024558104305538366 0.28994206047591964\n",
      "14 0.02455570004967073 0.28993216588025367\n",
      "15 0.024554509944863603 0.28992350256596183\n",
      "16 0.024554193806139185 0.28991588330249884\n",
      "17 0.024554505496910364 0.28990915200633266\n",
      "18 0.02455526351283658 0.28990318081229793\n",
      "19 0.0245563321610292 0.2898978650238666\n",
      "CPU times: user 1min 25s, sys: 1.33 s, total: 1min 27s\n",
      "Wall time: 26.8 s\n"
     ]
    }
   ],
   "source": [
    "%%time\n",
    "N_ITER = 20\n",
    "for iter in range(N_ITER):\n",
    "    p = compute_p(p, q, train_by_user)\n",
    "    q = compute_q(p, q, train_by_item)\n",
    "\n",
    "    predictions = p.dot(q.T)\n",
    "    \n",
    "    print(iter, train_error(predictions), test_error(predictions))"
   ]
  },
  {
   "cell_type": "markdown",
   "metadata": {},
   "source": [
    "## Мораль\n",
    "1. Простую рекомендательную систему построить просто.\n",
    "2. Она будет работать не супер.\n",
    "   1. Чтобы стало лучше надо смотреть на данные, думать, стоить более сложные модели и комбинировать простые.\n",
    "3. Cold start problem возникает как по объектам, так и по пользователям. Надо думать как её решать.\n",
    "4. Если данные разрежены (в рекомендательных системах это так) - используй разреженные матрицы.\n",
    "5. Валидация модели обязательна.\n",
    "   1. Обычно наиболее правильный способ разделять выборку - по времени.\n",
    "   2. MSE - не очень информативная метрика качества модели. Лучше выбрать другую, более релевантную задаче.\n",
    "6. Несмотря на то, что MSE - плохая метрика, матричные разложения, основанные на ней, работают на удивление хорошо."
   ]
  },
  {
   "cell_type": "markdown",
   "metadata": {},
   "source": [
    "## Что дальше?\n",
    "Дальше можно:\n",
    "1. Реализовать другие метрики качества для моделей.\n",
    "2. Сравнить item-based и user-based модели.\n",
    "   1. Проверить другие меры похожести.\n",
    "3. Использовать content-based подход для решения cold start problem.\n",
    "4. Переписать весь код выше с плотных матриц на разреженные.\n",
    "5. Построить комбинацию из всех известных подходов.\n",
    "6. Учитывать время отзыва.\n",
    "   1. Мотивация: чем больше времени прошло с момента отзыва, тем больше успел измениться человек и тем меньше тот отзыв отражает текущие предпочтения этого человека.\n",
    "   2. Идея: использовать величину, убывающую с давностью отзыва как вес в ALS.\n",
    "7. (место для вашего творчества)"
   ]
  }
 ],
 "metadata": {
  "colab": {
   "collapsed_sections": [],
   "machine_shape": "hm",
   "name": "Screencast_Recsys.ipynb",
   "provenance": []
  },
  "kernelspec": {
   "display_name": "Python 3",
   "language": "python",
   "name": "python3"
  },
  "language_info": {
   "codemirror_mode": {
    "name": "ipython",
    "version": 3
   },
   "file_extension": ".py",
   "mimetype": "text/x-python",
   "name": "python",
   "nbconvert_exporter": "python",
   "pygments_lexer": "ipython3",
   "version": "3.8.3"
  }
 },
 "nbformat": 4,
 "nbformat_minor": 1
}
