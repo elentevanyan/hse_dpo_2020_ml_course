{
 "cells": [
  {
   "cell_type": "code",
   "execution_count": 1,
   "metadata": {},
   "outputs": [],
   "source": [
    "import pandas as pd               \n",
    "import numpy as np                \n",
    "\n",
    "import matplotlib.pyplot as plt   \n",
    "import matplotlib\n",
    "import seaborn as sns\n",
    "plt.style.use('ggplot')\n",
    "%matplotlib inline"
   ]
  },
  {
   "cell_type": "markdown",
   "metadata": {},
   "source": [
    "# 1. Данные и пропуски \n",
    "\n",
    "На одном из предыдущих семинаров мы строили с вами визуализации для клипов с youtube. Сегодня мы продолжим с ним работать и попробуем предсказывать жарн видео по его параметрам. "
   ]
  },
  {
   "cell_type": "code",
   "execution_count": 2,
   "metadata": {},
   "outputs": [
    {
     "data": {
      "text/html": [
       "<div>\n",
       "<style scoped>\n",
       "    .dataframe tbody tr th:only-of-type {\n",
       "        vertical-align: middle;\n",
       "    }\n",
       "\n",
       "    .dataframe tbody tr th {\n",
       "        vertical-align: top;\n",
       "    }\n",
       "\n",
       "    .dataframe thead th {\n",
       "        text-align: right;\n",
       "    }\n",
       "</style>\n",
       "<table border=\"1\" class=\"dataframe\">\n",
       "  <thead>\n",
       "    <tr style=\"text-align: right;\">\n",
       "      <th></th>\n",
       "      <th>title</th>\n",
       "      <th>caption</th>\n",
       "      <th>categoryId</th>\n",
       "      <th>commentCount</th>\n",
       "      <th>definition</th>\n",
       "      <th>description</th>\n",
       "      <th>dislikeCount</th>\n",
       "      <th>duration</th>\n",
       "      <th>license</th>\n",
       "      <th>licensedContent</th>\n",
       "      <th>...</th>\n",
       "      <th>comment_mean_len_symbol</th>\n",
       "      <th>comment_mean_len_word</th>\n",
       "      <th>comment_negative_mean_prob</th>\n",
       "      <th>comment_negative_share</th>\n",
       "      <th>commentators_uniq</th>\n",
       "      <th>comments_emoji_max</th>\n",
       "      <th>comments_emoji_mean</th>\n",
       "      <th>comments_emoji_share</th>\n",
       "      <th>comments_obscene_cnt</th>\n",
       "      <th>words_obscene_cnt</th>\n",
       "    </tr>\n",
       "  </thead>\n",
       "  <tbody>\n",
       "    <tr>\n",
       "      <th>0</th>\n",
       "      <td>\"#2Маши \"Свободные линии\"</td>\n",
       "      <td>False</td>\n",
       "      <td>10</td>\n",
       "      <td>34.0</td>\n",
       "      <td>hd</td>\n",
       "      <td>ITUNES - https://itun.es/ru/0YzI_</td>\n",
       "      <td>43.0</td>\n",
       "      <td>PT3M30S</td>\n",
       "      <td>youtube</td>\n",
       "      <td>True</td>\n",
       "      <td>...</td>\n",
       "      <td>59.440000</td>\n",
       "      <td>8.840000</td>\n",
       "      <td>0.635410</td>\n",
       "      <td>0.480000</td>\n",
       "      <td>24.0</td>\n",
       "      <td>9.0</td>\n",
       "      <td>1.000000</td>\n",
       "      <td>0.320000</td>\n",
       "      <td>0.0</td>\n",
       "      <td>0.0</td>\n",
       "    </tr>\n",
       "    <tr>\n",
       "      <th>1</th>\n",
       "      <td>\"ALARM\" СЕРГЕЙ ЛАЗАРЕВ ( SERGEY LAZAREV )</td>\n",
       "      <td>False</td>\n",
       "      <td>10</td>\n",
       "      <td>NaN</td>\n",
       "      <td>sd</td>\n",
       "      <td>NEW OFFICIAL VIDEO\\r\\n2010</td>\n",
       "      <td>690.0</td>\n",
       "      <td>PT3M42S</td>\n",
       "      <td>youtube</td>\n",
       "      <td>False</td>\n",
       "      <td>...</td>\n",
       "      <td>NaN</td>\n",
       "      <td>NaN</td>\n",
       "      <td>NaN</td>\n",
       "      <td>NaN</td>\n",
       "      <td>NaN</td>\n",
       "      <td>NaN</td>\n",
       "      <td>NaN</td>\n",
       "      <td>NaN</td>\n",
       "      <td>NaN</td>\n",
       "      <td>NaN</td>\n",
       "    </tr>\n",
       "    <tr>\n",
       "      <th>2</th>\n",
       "      <td>\"EARTH SONG\"  SERGEY LAZAREV. DEDICATED TO MIC...</td>\n",
       "      <td>False</td>\n",
       "      <td>10</td>\n",
       "      <td>26.0</td>\n",
       "      <td>sd</td>\n",
       "      <td>Посвящается Майклу Джексону...\\r\\nCover-versio...</td>\n",
       "      <td>10.0</td>\n",
       "      <td>PT5M46S</td>\n",
       "      <td>youtube</td>\n",
       "      <td>False</td>\n",
       "      <td>...</td>\n",
       "      <td>120.000000</td>\n",
       "      <td>19.291667</td>\n",
       "      <td>0.725987</td>\n",
       "      <td>0.750000</td>\n",
       "      <td>23.0</td>\n",
       "      <td>13.0</td>\n",
       "      <td>0.666667</td>\n",
       "      <td>0.125000</td>\n",
       "      <td>0.0</td>\n",
       "      <td>0.0</td>\n",
       "    </tr>\n",
       "    <tr>\n",
       "      <th>3</th>\n",
       "      <td>\"Earth song\" премия МУЗ-тВ 2010 (LIVE)</td>\n",
       "      <td>False</td>\n",
       "      <td>10</td>\n",
       "      <td>12.0</td>\n",
       "      <td>sd</td>\n",
       "      <td>Сергей Лазарев, La Toya Jackson,  Ани Лорак, Т...</td>\n",
       "      <td>7.0</td>\n",
       "      <td>PT6M16S</td>\n",
       "      <td>youtube</td>\n",
       "      <td>False</td>\n",
       "      <td>...</td>\n",
       "      <td>81.818182</td>\n",
       "      <td>11.545455</td>\n",
       "      <td>0.736776</td>\n",
       "      <td>0.727273</td>\n",
       "      <td>11.0</td>\n",
       "      <td>13.0</td>\n",
       "      <td>1.181818</td>\n",
       "      <td>0.090909</td>\n",
       "      <td>0.0</td>\n",
       "      <td>0.0</td>\n",
       "    </tr>\n",
       "    <tr>\n",
       "      <th>4</th>\n",
       "      <td>\"FAKE\" СЕРГЕЙ ЛАЗАРЕВ (SERGEY)</td>\n",
       "      <td>False</td>\n",
       "      <td>10</td>\n",
       "      <td>46.0</td>\n",
       "      <td>sd</td>\n",
       "      <td>official video</td>\n",
       "      <td>19.0</td>\n",
       "      <td>PT3M</td>\n",
       "      <td>youtube</td>\n",
       "      <td>True</td>\n",
       "      <td>...</td>\n",
       "      <td>43.735294</td>\n",
       "      <td>8.617647</td>\n",
       "      <td>0.596008</td>\n",
       "      <td>0.441176</td>\n",
       "      <td>33.0</td>\n",
       "      <td>23.0</td>\n",
       "      <td>0.794118</td>\n",
       "      <td>0.088235</td>\n",
       "      <td>1.0</td>\n",
       "      <td>1.0</td>\n",
       "    </tr>\n",
       "  </tbody>\n",
       "</table>\n",
       "<p>5 rows × 30 columns</p>\n",
       "</div>"
      ],
      "text/plain": [
       "                                               title  caption  categoryId  \\\n",
       "0                          \"#2Маши \"Свободные линии\"    False          10   \n",
       "1          \"ALARM\" СЕРГЕЙ ЛАЗАРЕВ ( SERGEY LAZAREV )    False          10   \n",
       "2  \"EARTH SONG\"  SERGEY LAZAREV. DEDICATED TO MIC...    False          10   \n",
       "3             \"Earth song\" премия МУЗ-тВ 2010 (LIVE)    False          10   \n",
       "4                     \"FAKE\" СЕРГЕЙ ЛАЗАРЕВ (SERGEY)    False          10   \n",
       "\n",
       "   commentCount definition                                        description  \\\n",
       "0          34.0         hd                  ITUNES - https://itun.es/ru/0YzI_   \n",
       "1           NaN         sd                         NEW OFFICIAL VIDEO\\r\\n2010   \n",
       "2          26.0         sd  Посвящается Майклу Джексону...\\r\\nCover-versio...   \n",
       "3          12.0         sd  Сергей Лазарев, La Toya Jackson,  Ани Лорак, Т...   \n",
       "4          46.0         sd                                     official video   \n",
       "\n",
       "   dislikeCount duration  license  licensedContent  ...  \\\n",
       "0          43.0  PT3M30S  youtube             True  ...   \n",
       "1         690.0  PT3M42S  youtube            False  ...   \n",
       "2          10.0  PT5M46S  youtube            False  ...   \n",
       "3           7.0  PT6M16S  youtube            False  ...   \n",
       "4          19.0     PT3M  youtube             True  ...   \n",
       "\n",
       "   comment_mean_len_symbol comment_mean_len_word comment_negative_mean_prob  \\\n",
       "0                59.440000              8.840000                   0.635410   \n",
       "1                      NaN                   NaN                        NaN   \n",
       "2               120.000000             19.291667                   0.725987   \n",
       "3                81.818182             11.545455                   0.736776   \n",
       "4                43.735294              8.617647                   0.596008   \n",
       "\n",
       "   comment_negative_share commentators_uniq comments_emoji_max  \\\n",
       "0                0.480000              24.0                9.0   \n",
       "1                     NaN               NaN                NaN   \n",
       "2                0.750000              23.0               13.0   \n",
       "3                0.727273              11.0               13.0   \n",
       "4                0.441176              33.0               23.0   \n",
       "\n",
       "  comments_emoji_mean  comments_emoji_share  comments_obscene_cnt  \\\n",
       "0            1.000000              0.320000                   0.0   \n",
       "1                 NaN                   NaN                   NaN   \n",
       "2            0.666667              0.125000                   0.0   \n",
       "3            1.181818              0.090909                   0.0   \n",
       "4            0.794118              0.088235                   1.0   \n",
       "\n",
       "   words_obscene_cnt  \n",
       "0                0.0  \n",
       "1                NaN  \n",
       "2                0.0  \n",
       "3                0.0  \n",
       "4                1.0  \n",
       "\n",
       "[5 rows x 30 columns]"
      ]
     },
     "execution_count": 2,
     "metadata": {},
     "output_type": "execute_result"
    }
   ],
   "source": [
    "data = pd.read_csv('../data/youtube_data.csv', sep = '\\t')\n",
    "data.head()"
   ]
  },
  {
   "cell_type": "code",
   "execution_count": 3,
   "metadata": {},
   "outputs": [
    {
     "name": "stdout",
     "output_type": "stream",
     "text": [
      "<class 'pandas.core.frame.DataFrame'>\n",
      "RangeIndex: 19124 entries, 0 to 19123\n",
      "Data columns (total 30 columns):\n",
      "title                         19124 non-null object\n",
      "caption                       19124 non-null bool\n",
      "categoryId                    19124 non-null int64\n",
      "commentCount                  18914 non-null float64\n",
      "definition                    19124 non-null object\n",
      "description                   18339 non-null object\n",
      "dislikeCount                  18850 non-null float64\n",
      "duration                      19124 non-null object\n",
      "license                       19124 non-null object\n",
      "licensedContent               19124 non-null bool\n",
      "likeCount                     18850 non-null float64\n",
      "music_style                   19124 non-null object\n",
      "performer                     19124 non-null object\n",
      "publicStatsViewable           19124 non-null bool\n",
      "publishedAt                   19124 non-null object\n",
      "tags                          17806 non-null object\n",
      "video_id                      19124 non-null object\n",
      "viewCount                     19123 non-null float64\n",
      "comment_max_len_symbol        12314 non-null float64\n",
      "comment_max_len_word          12314 non-null float64\n",
      "comment_mean_len_symbol       12314 non-null float64\n",
      "comment_mean_len_word         12314 non-null float64\n",
      "comment_negative_mean_prob    12314 non-null float64\n",
      "comment_negative_share        12314 non-null float64\n",
      "commentators_uniq             12314 non-null float64\n",
      "comments_emoji_max            12314 non-null float64\n",
      "comments_emoji_mean           12314 non-null float64\n",
      "comments_emoji_share          12314 non-null float64\n",
      "comments_obscene_cnt          12314 non-null float64\n",
      "words_obscene_cnt             12314 non-null float64\n",
      "dtypes: bool(3), float64(16), int64(1), object(10)\n",
      "memory usage: 4.0+ MB\n"
     ]
    }
   ],
   "source": [
    "data.info()"
   ]
  },
  {
   "cell_type": "markdown",
   "metadata": {},
   "source": [
    "Можно заметить, что некоторые данные у нас отсутствуют. Давайте посмотрим на заполненность нашей таблички на картинке. "
   ]
  },
  {
   "cell_type": "code",
   "execution_count": 4,
   "metadata": {},
   "outputs": [
    {
     "data": {
      "image/png": "[encoded data removed]",
      "text/plain": [
       "<Figure size 1440x864 with 1 Axes>"
      ]
     },
     "metadata": {
      "needs_background": "light"
     },
     "output_type": "display_data"
    }
   ],
   "source": [
    "fig, ax = plt.subplots(figsize=(20,12))\n",
    "sns_heatmap = sns.heatmap(data.isnull(), yticklabels=False, cbar=False, cmap='viridis')"
   ]
  },
  {
   "cell_type": "markdown",
   "metadata": {},
   "source": [
    "Что мы говорим пропускам в данных? Не сегодня. С пропусками нужно бороться. Алгоритмы оцениваются на числах и не любят пропуски (некоторые настроены к пропускам нейтрально, так как умеют их обрабатывать). \n",
    "\n",
    "Первое решение: выбросить все наблюдения с пропусками. Проблема такого подхода в том, что другие то переменные для этих наблюдений не пропущены. Значит, выбросив строчки, соответствующие пропускам, мы потеряем кучу информации. Полезной информации. Информацию и без всех наших преобразований легко потерять, сложно найти и невозможно забыть, а мы её ещё и выкинуть хотим. \n",
    "\n",
    "Обычно, если пропусков в переменной не очень много, их заполняют чем-нибудь нейтральным. Например, средними или медианами. Когда алгоритм будет натыкаться на них, он будет думать: \"Хммм, ну тут ничего особенного, всё как в среднем по выборке, пойду посмотрю другую переменную\". И тогда всё будет хорошо. "
   ]
  },
  {
   "cell_type": "markdown",
   "metadata": {},
   "source": [
    "Для удобства создаём список из непрерывных переменных. Дальше будем работать только с ними."
   ]
  },
  {
   "cell_type": "code",
   "execution_count": 5,
   "metadata": {},
   "outputs": [],
   "source": [
    "real_variables = [\"commentCount\",              # число комментов под видосом\n",
    "                  \"dislikeCount\",              # число дисолайков \n",
    "                  \"likeCount\",                 # лайки \n",
    "                  \"viewCount\",                 # просмотры \n",
    "                  \"comment_max_len_symbol\",    # максимальная длинна комента \n",
    "                  \"comment_max_len_word\",      # максимальное число слов в коменте \n",
    "                  \"comment_mean_len_symbol\",   # средняя длина комента\n",
    "                  \"comment_mean_len_word\",     # среднее число слов в коменте \n",
    "                  \"comment_negative_share\",    # средяя доля негатива в коментах \n",
    "                  \"comment_negative_mean_prob\",# ещё одна переменная, отвечающая за негатив\n",
    "                  \"commentators_uniq\",         # число уникальных коментаторов \n",
    "                  \"comments_emoji_max\",        # максимальное число эмодзи в коменте\n",
    "                  \"comments_emoji_mean\",       # среднее число эмодзи \n",
    "                  \"comments_emoji_share\",      # доля коментов с эмодзи \n",
    "                  \"comments_obscene_cnt\",      # число матерных коментов \n",
    "                  \"words_obscene_cnt\"          # число матерных слов под видосом\n",
    "                 ]"
   ]
  },
  {
   "cell_type": "markdown",
   "metadata": {},
   "source": [
    "Давайте заполним во всех непрерывных переменных пропуски средними. "
   ]
  },
  {
   "cell_type": "code",
   "execution_count": null,
   "metadata": {},
   "outputs": [],
   "source": [
    "for column in real_variables:\n",
    "    '''\n",
    "    <YOUR CODE HERE!>\n",
    "    '''"
   ]
  },
  {
   "cell_type": "code",
   "execution_count": 7,
   "metadata": {},
   "outputs": [
    {
     "data": {
      "image/png": "[encoded data removed]",
      "text/plain": [
       "<Figure size 1440x864 with 1 Axes>"
      ]
     },
     "metadata": {
      "needs_background": "light"
     },
     "output_type": "display_data"
    }
   ],
   "source": [
    "fig, ax = plt.subplots(figsize=(20,12))\n",
    "sns_heatmap = sns.heatmap(data.isnull(), yticklabels=False, cbar=False, cmap='viridis')"
   ]
  },
  {
   "cell_type": "markdown",
   "metadata": {},
   "source": [
    "# 2. Что будем предсказывать? \n",
    "\n",
    "Предсказывать будем жанр видео. Давайте посмотрим какие у нас есть жанры в данных. "
   ]
  },
  {
   "cell_type": "code",
   "execution_count": 4,
   "metadata": {},
   "outputs": [
    {
     "data": {
      "text/plain": [
       "'\\n<YOUR CODE HERE!>\\n'"
      ]
     },
     "execution_count": 4,
     "metadata": {},
     "output_type": "execute_result"
    }
   ],
   "source": [
    "'''\n",
    "<YOUR CODE HERE!>\n",
    "'''"
   ]
  },
  {
   "cell_type": "markdown",
   "metadata": {},
   "source": [
    "Давайте для простоты оставим в данных только два жанра. Например, рэп и эстраду. Попробуем заставить машины разбираться, что за видео перед ними. "
   ]
  },
  {
   "cell_type": "code",
   "execution_count": 5,
   "metadata": {},
   "outputs": [
    {
     "data": {
      "text/plain": [
       "'\\n<YOUR CODE HERE!>\\n'"
      ]
     },
     "execution_count": 5,
     "metadata": {},
     "output_type": "execute_result"
    }
   ],
   "source": [
    "'''\n",
    "<YOUR CODE HERE!>\n",
    "'''"
   ]
  },
  {
   "cell_type": "markdown",
   "metadata": {},
   "source": [
    "Разбиваем выборку на обучающую, в которой мы будем находить закономерности, и тестовую выборку, на которой мы будем проверять выявленные закономерности."
   ]
  },
  {
   "cell_type": "code",
   "execution_count": 10,
   "metadata": {},
   "outputs": [
    {
     "name": "stdout",
     "output_type": "stream",
     "text": [
      "Размер обучающей выборки: (4943, 30)\n",
      "Размер тестовой выборки: (1236, 30)\n"
     ]
    }
   ],
   "source": [
    "from sklearn.model_selection import train_test_split\n",
    "\n",
    "train, test = train_test_split(data, test_size = 0.2, random_state=201905)\n",
    "\n",
    "print(\"Размер обучающей выборки:\", train.shape)\n",
    "print(\"Размер тестовой выборки:\", test.shape)"
   ]
  },
  {
   "cell_type": "markdown",
   "metadata": {},
   "source": [
    "Убедимся, что мы не нарушили пропорции жанров при делении выборки на тренировочную и тестову. __Как думаете, зачем это нужно?__ "
   ]
  },
  {
   "cell_type": "code",
   "execution_count": 11,
   "metadata": {},
   "outputs": [
    {
     "data": {
      "text/plain": [
       "estrada    0.669836\n",
       "rap        0.330164\n",
       "Name: music_style, dtype: float64"
      ]
     },
     "execution_count": 11,
     "metadata": {},
     "output_type": "execute_result"
    }
   ],
   "source": [
    "'''\n",
    "<YOUR CODE HERE!>\n",
    "'''"
   ]
  },
  {
   "cell_type": "code",
   "execution_count": 12,
   "metadata": {},
   "outputs": [
    {
     "data": {
      "text/plain": [
       "estrada    0.679612\n",
       "rap        0.320388\n",
       "Name: music_style, dtype: float64"
      ]
     },
     "execution_count": 12,
     "metadata": {},
     "output_type": "execute_result"
    }
   ],
   "source": [
    "'''\n",
    "<YOUR CODE HERE!>\n",
    "'''"
   ]
  },
  {
   "cell_type": "markdown",
   "metadata": {},
   "source": [
    "Вроде бы всё нормально. Сейчас в нашем датасете все жанры записаны в текстовом виде. Мы с вами постоянно повторяем, как прописную истину то, что __модели поедают только цифры.__ Давайте переработаем жанры в дамми-переменную. Будем обозначать рэпчик за $1$, попсу за $0$. "
   ]
  },
  {
   "cell_type": "code",
   "execution_count": 13,
   "metadata": {},
   "outputs": [
    {
     "data": {
      "text/plain": [
       "array([0, 0, 1, ..., 0, 0, 0])"
      ]
     },
     "execution_count": 13,
     "metadata": {},
     "output_type": "execute_result"
    }
   ],
   "source": [
    "'''\n",
    "<YOUR CODE HERE!>\n",
    "'''"
   ]
  },
  {
   "cell_type": "code",
   "execution_count": 14,
   "metadata": {},
   "outputs": [
    {
     "data": {
      "text/plain": [
       "array([1, 0, 0, ..., 1, 0, 0])"
      ]
     },
     "execution_count": 14,
     "metadata": {},
     "output_type": "execute_result"
    }
   ],
   "source": [
    "'''\n",
    "<YOUR CODE HERE!>\n",
    "'''"
   ]
  },
  {
   "cell_type": "markdown",
   "metadata": {},
   "source": [
    "# 3. Моделирование! \n",
    "\n",
    "Давайте строить прогнозные модели! "
   ]
  },
  {
   "cell_type": "code",
   "execution_count": 16,
   "metadata": {},
   "outputs": [],
   "source": [
    "from sklearn.preprocessing import MinMaxScaler  # класс для скалирования! \n",
    "\n",
    "# Он сам будет считать максимумы, минимумы и делить! \n",
    "\n",
    "# Объеявили скалировшик \n",
    "scaler = MinMaxScaler( )\n",
    "\n",
    "# Обучили его на тренировочной выборке (он само посчитал все максимумы, минимумы, поделил)\n",
    "scaler.fit(X_train) \n",
    "\n",
    "# Теперь применяем его к нашим данным \n",
    "X_train_norm = scaler.transform(X_train) \n",
    "X_test_norm = scaler.transform(X_test)"
   ]
  },
  {
   "cell_type": "markdown",
   "metadata": {},
   "source": [
    "\n",
    "У модельки нас интересуют два метода: \n",
    "* `fit`- обучить модель\n",
    "* `predict`- применить модель"
   ]
  },
  {
   "cell_type": "markdown",
   "metadata": {},
   "source": [
    "## 3.2 Логистическая регрессия"
   ]
  },
  {
   "cell_type": "code",
   "execution_count": 6,
   "metadata": {},
   "outputs": [],
   "source": [
    "from sklearn.linear_model import LogisticRegression\n",
    "\n",
    "# объявляем метод 9 ближайших соседей\n",
    "lr = LogisticRegression()\n",
    "\n",
    "# обучаем его по выборке \n",
    "'''\n",
    "<YOUR CODE HERE!>\n",
    "'''\n",
    "# строим для тестовой выборки прогнозы \n",
    "'''\n",
    "<YOUR CODE HERE!>\n",
    "'''"
   ]
  },
  {
   "cell_type": "markdown",
   "metadata": {},
   "source": [
    "Взглянем на прогнозы. "
   ]
  },
  {
   "cell_type": "code",
   "execution_count": 7,
   "metadata": {},
   "outputs": [
    {
     "data": {
      "text/plain": [
       "'\\n<YOUR CODE HERE!>\\n'"
      ]
     },
     "execution_count": 7,
     "metadata": {},
     "output_type": "execute_result"
    }
   ],
   "source": [
    "'''\n",
    "<YOUR CODE HERE!>\n",
    "'''"
   ]
  },
  {
   "cell_type": "markdown",
   "metadata": {},
   "source": [
    "Интересно было бы узнать насколько качественной у нас получилась модель. Давайте посмотрим на какую-нибудь метрику качества, например на `accuracy`.  __Как думаете, это хорошая идея?__ "
   ]
  },
  {
   "cell_type": "code",
   "execution_count": 8,
   "metadata": {},
   "outputs": [
    {
     "data": {
      "text/plain": [
       "'\\n<YOUR CODE HERE!>\\n'"
      ]
     },
     "execution_count": 8,
     "metadata": {},
     "output_type": "execute_result"
    }
   ],
   "source": [
    "from sklearn.metrics import accuracy_score\n",
    "\n",
    "# считаем долю верно построенных прогнозов \n",
    "'''\n",
    "<YOUR CODE HERE!>\n",
    "'''"
   ]
  },
  {
   "cell_type": "markdown",
   "metadata": {},
   "source": [
    "Давайте попробуем посчитать ещё и другую метрику. Например, площадь под roc-кривой. "
   ]
  },
  {
   "cell_type": "code",
   "execution_count": 9,
   "metadata": {},
   "outputs": [
    {
     "data": {
      "text/plain": [
       "'\\n<YOUR CODE HERE!>\\n'"
      ]
     },
     "execution_count": 9,
     "metadata": {},
     "output_type": "execute_result"
    }
   ],
   "source": [
    "from sklearn.metrics import roc_auc_score\n",
    "\n",
    "# считаем долю верно построенных прогнозов \n",
    "'''\n",
    "<YOUR CODE HERE!>\n",
    "'''"
   ]
  },
  {
   "cell_type": "markdown",
   "metadata": {},
   "source": [
    "## 3.3 SVM деревья \n",
    "\n",
    "<img src = \"http://res.cloudinary.com/dyd911kmh/image/upload/f_auto,q_auto:best/v1528907338/classification-tree_ygvats.png\">\n"
   ]
  },
  {
   "cell_type": "code",
   "execution_count": 25,
   "metadata": {},
   "outputs": [
    {
     "name": "stdout",
     "output_type": "stream",
     "text": [
      "accuracy: 0.8656957928802589\n",
      "roc_auc: 0.8457972582972584\n"
     ]
    }
   ],
   "source": [
    "# Подшружаем дерево \n",
    "from sklearn.svm import LinearSVC\n",
    "\n",
    "# Объявляем  SVM \n",
    "svm = LinearSVC( )\n",
    "\n",
    "# учим  \n",
    "'''\n",
    "<YOUR CODE HERE!>\n",
    "'''\n",
    "\n",
    "# предсказываем на тестовой выборке результаты \n",
    "'''\n",
    "<YOUR CODE HERE!>\n",
    "'''\n",
    "\n",
    "# посчитали долю верных ответов\n",
    "'''\n",
    "<YOUR CODE HERE!>\n",
    "'''"
   ]
  },
  {
   "cell_type": "markdown",
   "metadata": {},
   "source": [
    "# 4. Метрики классификации \n",
    "\n",
    "Только что мы построили два алгоритма и построили для них разные метрики. Давайте попробуем посравнивать их между собой с помощью оставшихся метрик классификации. \n",
    "\n",
    "Разные метрики качества мы с вами разобрали ранее. Если вы не поняли их, можно [глянуть лекцию Жени Соколова.](https://www.coursera.org/learn/vvedenie-mashinnoe-obuchenie/lecture/IVuAc/mietriki-kachiestva-klassifikatsii-1)  Расскажите потом понятной она вам показалась или непонятной, если будете смотреть.\n",
    "\n",
    "Вкратце напомню о чём шла речь. Предсказывая отток, мы можем совершить ошибки двух видов: \n",
    "\n",
    "* Ошибка первого рода: мы предсказали человеку, что он уйдёт, а он остался.\n",
    "* Ошибка второго рода: мы предсказали, что человек останется, а он ушёл.\n",
    "\n",
    "В разных задачах критичны разные виды ошибок. На основе этих ошибок можно придумать много метрик. Мы с вами построили вот такую табличку  \n",
    "\n",
    "![](http://blog.exsilio.com/wp-content/uploads/2016/09/table-blog.png)\n",
    "\n",
    "и обсудили слудущие метрики качества: \n",
    "\n",
    "* Доля верно классифицированных объектов:\n",
    "\n",
    "$$Accuracy = \\frac{TP + TN}{TP + FP + TN + FN}$$\n",
    "\n",
    "Интуитивно понятная, очевидная и почти неиспользуемая метрика. Её главная проблема в том, что она бесполезна в задачах с неравными классами. Например, пусть у нас есть $50$ больных и $950$ здоровых. Мы хотим научиться их различать. Пусть наш алгоритм предсказывает, что все здоровы. В этом случае доля правильных ответов составит $95\\%$, но алгорим окажется абсолютно бесполезным. \n",
    "\n",
    "Чтобы избежать таких эксцессов, а также учитывать, что разные типы ошибок могут иметь разную цену, строят другие две метрики: точность и полноту. \n",
    "\n",
    "* Точность (precision): \n",
    "\n",
    "$$P = \\frac{TP}{TP + FP}$$\n",
    "\n",
    "Отражает то, насколько мы можем доверять алгоритму, если он спрогнозировал единичку. \n",
    "\n",
    "* Полнота (Recall): \n",
    "\n",
    "$$R = \\frac{TP}{TP + FN}$$\n",
    "\n",
    "Показывает, как много объектов первого класса наш алгоритм находит.\n",
    "\n",
    "Введение `Precision` не позволяет нам записывать все объекты в один класс, так как в этом случае мы получаем рост уровня `False Positive`. `Recall` демонстрирует способность алгоритма обнаруживать данный класс вообще, а `Precision` — способность отличать этот класс от других классов.\n",
    "\n",
    "Более высокая точность влечёт более низкую полноту. Баланс между этими характеристиками выбирается в зависимости от задачи. В случае поиска больных, на бы хотелось получить максимальную полноту. Нестрашно, если здоровый сдаст анализы, страшно если мы пропустим больного. В задаче выдаче кредитов, наоборот, важнее точность.\n",
    "\n",
    "Можно склеить эти две метрики, посчитав их среднее гармонческое и получить f-меру: \n",
    "\n",
    "* F-measure: \n",
    "\n",
    "$$F = \\frac{\\beta \\cdot precision \\cdot recall}{precision + recall}$$\n",
    "\n",
    "Параметр $\\beta$ в данном случае определяет вес точности в метрике. $\\beta = 1$ вносит точность и полноту с одинаковыми весами. Изменяя его, можно отдавать предпочтения либо одному либо другому. \n",
    "\n",
    "Все эти метрики уже есть в пакете sklearn. По уму надо бы реализовать их самостоятельно, чтобы лучше понять, но у нас на это нет особо времени, поэтому это домашнее задание :) \n",
    "\n",
    "Итак, посмотрим на наши чудо-метрики! Для начала подгрузим их. "
   ]
  },
  {
   "cell_type": "code",
   "execution_count": 27,
   "metadata": {},
   "outputs": [],
   "source": [
    "from sklearn.metrics import confusion_matrix, classification_report, precision_recall_curve\n",
    "from sklearn.metrics import roc_auc_score, roc_curve, auc"
   ]
  },
  {
   "cell_type": "markdown",
   "metadata": {},
   "source": [
    "__Внимание!__ В ячейке ниже будет несколько страшных функций для красивых картинок. Вы не обязаны разбираться в том, как они устроены. Но вот понимать что эти картинки обозначают и как метрики классификации работают, вы обязаны. "
   ]
  },
  {
   "cell_type": "code",
   "execution_count": 28,
   "metadata": {},
   "outputs": [],
   "source": [
    "import itertools\n",
    "\n",
    "# Функция для отрисовки roc-auc кривой    \n",
    "def roc_auc_pic(y_hat_test, y_test):    \n",
    "    fpr_test, tpr_test, thresholds_test = roc_curve(y_test, y_hat_test)\n",
    "    roc_auc_test = roc_auc_score(y_test, y_hat_test)\n",
    "\n",
    "    matplotlib.rcParams['figure.figsize'] = (8, 8)\n",
    "    plt.plot(fpr_test, tpr_test, label='Test ROC AUC {0}'.format(roc_auc_test))\n",
    "    plt.plot([0, 1], [0, 1], '--', color=(0.6, 0.6, 0.6))\n",
    "    plt.xlim([0, 1])\n",
    "    plt.ylim([0, 1])\n",
    "    plt.xlabel('False Positive Rate')\n",
    "    plt.ylabel('True Positive Rate')\n",
    "    plt.legend(loc='lower right')\n",
    "    plt.show() \n",
    "    pass\n",
    "\n",
    "\n",
    "# Картинки для PR-кривой, а-меры и прочих ништяков\n",
    "def plot_precision_recall_curve(y_pred_proba, y_test):\n",
    "    plt.figure(figsize=(10, 10))\n",
    "    f_scores = np.linspace(0.4, 0.9, num=6)\n",
    "    lines = []\n",
    "    labels = []\n",
    "    for f_score in f_scores:\n",
    "        x = np.linspace(0.01, 1)\n",
    "        y = f_score * x / (2 * x - f_score)\n",
    "        l, = plt.plot(x[y >= 0], y[y >= 0], color='gray', alpha=0.2)\n",
    "        plt.annotate('f1={0:0.2f}'.format(f_score), xy=(0.9, y[45] + 0.02))\n",
    "    precision, recall, _ =  precision_recall_curve(y_test, y_pred_proba)\n",
    "\n",
    "    plt.step(recall, precision, color='b', alpha=0.2, where='post')\n",
    "    plt.fill_between(recall, precision, step='post', alpha=0.2,\n",
    "                     color='b')\n",
    "    plt.xlabel('Recall', size=15)\n",
    "    plt.ylabel('Precision', size=15)\n",
    "    plt.title('Precision-Recall curve', size=18)\n",
    "    plt.xlim([0.0, 1.0])\n",
    "    plt.ylim([0.0, 1.05])\n",
    "    plt.show()"
   ]
  },
  {
   "cell_type": "markdown",
   "metadata": {},
   "source": [
    "__Внимание!__ Страшный кодище для картинок закончился. Начиная с этой строки, нужно снова начать понимать. У нас есть три функции: \n",
    "\n",
    "* `plot_confusion_matrix` строит матрицу ошибок\n",
    "* `roc_auc_pic` строит рок-кривую\n",
    "* `plot_precision_recall_curve` строит кривую точнось-полнота\n",
    "\n",
    "Начнём с моделей. Будем смотреть на две: случайный лес и ближайшие соседи. \n",
    "\n",
    "Здесь вместо `predict` мы будем использовать метод `predict_proba`, этот метод выдает вероятности принадлежности к каждому классу"
   ]
  },
  {
   "cell_type": "code",
   "execution_count": 29,
   "metadata": {},
   "outputs": [],
   "source": [
    "# Начнёмс с того, что построим прогнозы \n",
    "'''\n",
    "<YOUR CODE HERE!>\n",
    "'''"
   ]
  },
  {
   "cell_type": "markdown",
   "metadata": {},
   "source": [
    "Для каждой построим картинки и сравним их между собой. Начнём с roc-кривых. "
   ]
  },
  {
   "cell_type": "code",
   "execution_count": 30,
   "metadata": {},
   "outputs": [
    {
     "data": {
      "image/png": "[encoded data removed]",
      "text/plain": [
       "<Figure size 576x576 with 1 Axes>"
      ]
     },
     "metadata": {
      "needs_background": "light"
     },
     "output_type": "display_data"
    }
   ],
   "source": [
    "# Для леса\n",
    "roc_auc_pic(, y_test)"
   ]
  },
  {
   "cell_type": "markdown",
   "metadata": {},
   "source": [
    "__Какая из моделей показывает более высокое качество по метрике roc_auc?__ \n",
    "\n",
    "Теперь сравним модели по площади под precision-recall кривой."
   ]
  },
  {
   "cell_type": "code",
   "execution_count": 32,
   "metadata": {
    "scrolled": true
   },
   "outputs": [
    {
     "data": {
      "image/png": "[encoded data removed]",
      "text/plain": [
       "<Figure size 720x720 with 1 Axes>"
      ]
     },
     "metadata": {
      "needs_background": "light"
     },
     "output_type": "display_data"
    }
   ],
   "source": [
    "plot_precision_recall_curve(, y_test)"
   ]
  },
  {
   "cell_type": "markdown",
   "metadata": {},
   "source": [
    "# Дополнительно посмотреть\n",
    "\n",
    "https://habr.com/ru/company/ods/blog/484148/ <br>\n",
    "https://habr.com/ru/company/io/blog/265007/ <br>\n",
    "https://habr.com/ru/company/ods/blog/323890/#logisticheskaya-regressiya-kak-lineynyy-klassifikator"
   ]
  }
 ],
 "metadata": {
  "kernelspec": {
   "display_name": "Python 3",
   "language": "python",
   "name": "python3"
  },
  "language_info": {
   "codemirror_mode": {
    "name": "ipython",
    "version": 3
   },
   "file_extension": ".py",
   "mimetype": "text/x-python",
   "name": "python",
   "nbconvert_exporter": "python",
   "pygments_lexer": "ipython3",
   "version": "3.8.3"
  }
 },
 "nbformat": 4,
 "nbformat_minor": 2
}
